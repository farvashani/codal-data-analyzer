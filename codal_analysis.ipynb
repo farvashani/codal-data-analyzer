{
  "cells": [
    {
      "cell_type": "markdown",
      "metadata": {},
      "source": [
        "# 📊 تحلیل داده‌های کدال ایران\n",
        "\n",
        "این نوت‌بوک برای تحلیل داده‌های مالی از سامانه کدال ایران طراحی شده است.\n",
        "\n",
        "## اهداف پروژه:\n",
        "- جمع‌آوری داده‌های مالی از کدال\n",
        "- تمیزسازی و پیش‌پردازش داده‌ها\n",
        "- استخراج فیچرهای مفید\n",
        "- تحلیل روندهای بازار\n"
      ]
    },
    {
      "cell_type": "markdown",
      "metadata": {},
      "source": [
        "## 1️⃣ نصب و راه‌اندازی کتابخانه‌ها\n"
      ]
    },
    {
      "cell_type": "code",
      "execution_count": null,
      "metadata": {},
      "outputs": [],
      "source": [
        "# وارد کردن کتابخانه‌های مورد نیاز\n",
        "import pandas as pd\n",
        "import numpy as np\n",
        "import matplotlib.pyplot as plt\n",
        "import seaborn as sns\n",
        "import plotly.express as px\n",
        "import plotly.graph_objects as go\n",
        "from plotly.subplots import make_subplots\n",
        "import time\n",
        "import warnings\n",
        "warnings.filterwarnings('ignore')\n",
        "\n",
        "# تنظیم نمایش فارسی\n",
        "plt.rcParams['font.family'] = ['Tahoma', 'DejaVu Sans']\n",
        "plt.rcParams['axes.unicode_minus'] = False\n",
        "\n",
        "print(\"✅ کتابخانه‌ها با موفقیت وارد شدند\")\n"
      ]
    }
  ],
  "metadata": {
    "language_info": {
      "name": "python"
    }
  },
  "nbformat": 4,
  "nbformat_minor": 2
}
